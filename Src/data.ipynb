{
 "cells": [
  {
   "attachments": {},
   "cell_type": "markdown",
   "metadata": {},
   "source": [
    "## import the laibries"
   ]
  },
  {
   "cell_type": "code",
   "execution_count": 1,
   "metadata": {},
   "outputs": [],
   "source": [
    "import pandas as pd\n",
    "import numpy as np\n",
    "import json\n",
    "\n",
    "from app_store_scraper import AppStore"
   ]
  },
  {
   "cell_type": "code",
   "execution_count": null,
   "metadata": {},
   "outputs": [],
   "source": [
    "## Aliexpress\n",
    "#Get the App Name and App Id\n",
    "aliexpress = AppStore(country='us', app_name='aliexpress-shopping-app', app_id = '436672029')\n",
    "aliexpress.review(how_many=10000)\n",
    "\n",
    "aliexpress.reviews\n",
    "\n",
    "#transformation of format (JSON to Pandas Dataframe)\n",
    "aliexpress_df = pd.DataFrame(np.array(aliexpress.reviews),columns=['review'])\n",
    "aliexpress_df2 = aliexpress_df.join(pd.DataFrame(aliexpress_df.pop('review').tolist()))\n",
    "aliexpress_df2.head()\n",
    "\n",
    "# save it as CSV\n",
    "aliexpress_df2.to_csv('aliexpress.csv')"
   ]
  },
  {
   "cell_type": "code",
   "execution_count": null,
   "metadata": {},
   "outputs": [],
   "source": [
    "## shein\n",
    "#Get the App Name and App Id\n",
    "shein = AppStore(country='sa', app_name='shein-fashion-shopping-online', app_id = '878577184')\n",
    "shein.review(10000)\n",
    "\n",
    "shein.reviews\n",
    "\n",
    "#transformation of format (JSON to Pandas Dataframe)\n",
    "shein_df = pd.DataFrame(np.array(shein.reviews),columns=['review'])\n",
    "shein_df2 = shein_df.join(pd.DataFrame(shein_df.pop('review').tolist()))\n",
    "shein_df2.head()\n",
    "\n",
    "# save it as CSV\n",
    "shein_df2.to_csv('Shein.csv')"
   ]
  },
  {
   "cell_type": "code",
   "execution_count": null,
   "metadata": {},
   "outputs": [],
   "source": [
    "## Amazon\n",
    "#Get the App Name and App Id\n",
    "Amazon = AppStore(country='sa', app_name='amazon-shopping-made-easy', app_id = '297606951')\n",
    "Amazon.review(10000)\n",
    "\n",
    "Amazon.reviews\n",
    "\n",
    "#transformation of format (JSON to Pandas Dataframe)\n",
    "Amazon_df = pd.DataFrame(np.array(Amazon.reviews),columns=['review'])\n",
    "Amazon_df2 = Amazon_df.join(pd.DataFrame(Amazon_df.pop('review').tolist()))\n",
    "Amazon_df2.head()\n",
    "\n",
    "# save it as CSV\n",
    "Amazon_df2.to_csv('amazon.csv')"
   ]
  },
  {
   "cell_type": "code",
   "execution_count": null,
   "metadata": {},
   "outputs": [],
   "source": [
    "## asos\n",
    "#Get the App Name and App Id\n",
    "asos = AppStore(country='sa', app_name='asos', app_id = '457876088')\n",
    "asos.review(how_many=10000)\n",
    "\n",
    "aliexpress.reviews\n",
    "\n",
    "#transformation of format (JSON to Pandas Dataframe)\n",
    "asos_df = pd.DataFrame(np.array(asos.reviews),columns=['review'])\n",
    "asos_df2 = asos_df.join(pd.DataFrame(asos_df.pop('review').tolist()))\n",
    "asos_df2.head()\n",
    "\n",
    "# save it as CSV\n",
    "asos_df2.to_csv('asos.csv')"
   ]
  },
  {
   "cell_type": "code",
   "execution_count": null,
   "metadata": {},
   "outputs": [],
   "source": [
    "## Namshi\n",
    "#Get the App Name and App Id\n",
    "Namshi = AppStore(country='sa', app_name='namshi-shop-fashion-beauty', app_id = '840127349')\n",
    "Namshi.review(10000)\n",
    "\n",
    "aliexpress.reviews\n",
    "\n",
    "#transformation of format (JSON to Pandas Dataframe)\n",
    "Namshi_df = pd.DataFrame(np.array(Namshi.reviews),columns=['review'])\n",
    "Namshi_df2 = Namshi_df.join(pd.DataFrame(Namshi_df.pop('review').tolist()))\n",
    "Namshi_df2.head()\n",
    "\n",
    "# save it as CSV\n",
    "Namshi_df2.to_csv('Namshi.csv')"
   ]
  }
 ],
 "metadata": {
  "kernelspec": {
   "display_name": "Python 3.9.12 ('base')",
   "language": "python",
   "name": "python3"
  },
  "language_info": {
   "codemirror_mode": {
    "name": "ipython",
    "version": 3
   },
   "file_extension": ".py",
   "mimetype": "text/x-python",
   "name": "python",
   "nbconvert_exporter": "python",
   "pygments_lexer": "ipython3",
   "version": "3.9.12 (main, Apr  5 2022, 06:56:58) \n[GCC 7.5.0]"
  },
  "orig_nbformat": 4,
  "vscode": {
   "interpreter": {
    "hash": "d4d1e4263499bec80672ea0156c357c1ee493ec2b1c70f0acce89fc37c4a6abe"
   }
  }
 },
 "nbformat": 4,
 "nbformat_minor": 2
}
